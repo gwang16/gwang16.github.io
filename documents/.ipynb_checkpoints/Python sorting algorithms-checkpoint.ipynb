{
 "cells": [
  {
   "cell_type": "code",
   "execution_count": 3,
   "metadata": {
    "collapsed": false
   },
   "outputs": [],
   "source": [
    "def fib(n):\n",
    "    if n==0:\n",
    "        return 0\n",
    "    if n==1:\n",
    "        return 1\n",
    "    else:\n",
    "        return fib(n-1)+fib(n-2)"
   ]
  },
  {
   "cell_type": "code",
   "execution_count": 11,
   "metadata": {
    "collapsed": false
   },
   "outputs": [
    {
     "name": "stdout",
     "output_type": "stream",
     "text": [
      "832040\n"
     ]
    }
   ],
   "source": [
    "import time\n",
    "\n",
    "t0=time.clock()\n",
    "print fib(30)\n",
    "t1=time.clock()"
   ]
  },
  {
   "cell_type": "code",
   "execution_count": 10,
   "metadata": {
    "collapsed": false
   },
   "outputs": [
    {
     "data": {
      "text/plain": [
       "0.41323374980191946"
      ]
     },
     "execution_count": 10,
     "metadata": {},
     "output_type": "execute_result"
    }
   ],
   "source": [
    "t1-t0"
   ]
  },
  {
   "cell_type": "code",
   "execution_count": 30,
   "metadata": {
    "collapsed": false
   },
   "outputs": [],
   "source": [
    "known={0:0,1:1}\n",
    "def fib2(n):\n",
    "    if n not in known:\n",
    "        known[n] = fib2(n-1)+fib2(n-2)\n",
    "    return known[n]"
   ]
  },
  {
   "cell_type": "code",
   "execution_count": 31,
   "metadata": {
    "collapsed": false
   },
   "outputs": [
    {
     "name": "stdout",
     "output_type": "stream",
     "text": [
      "832040\n",
      "0.000200748970087\n"
     ]
    }
   ],
   "source": [
    "t0=time.clock()\n",
    "print fib2(30)\n",
    "t1=time.clock()\n",
    "print t1-t0"
   ]
  },
  {
   "cell_type": "code",
   "execution_count": 64,
   "metadata": {
    "collapsed": false
   },
   "outputs": [
    {
     "name": "stdout",
     "output_type": "stream",
     "text": [
      "[-6, -6, -4, -4, 1, 1, 5, 5, 5, 5, 6, 6, 20, 20]\n",
      "0.000231949218687\n"
     ]
    }
   ],
   "source": [
    "A=[5, 20, 1, -4, 6, -6, 5, 5, 20, 1, -4, 6, -6, 5]\n",
    "def insertionSort(A):\n",
    "    for i in range(len(A)):\n",
    "        j=i\n",
    "        while j>0 and A[j-1]>A[j]:\n",
    "            A[j-1], A[j]= A[j], A[j-1]\n",
    "            j-=1\n",
    "    return A\n",
    "\n",
    "t0=time.clock()\n",
    "print insertionSort(A)\n",
    "t1=time.clock()\n",
    "print t1-t0"
   ]
  },
  {
   "cell_type": "code",
   "execution_count": 70,
   "metadata": {
    "collapsed": false
   },
   "outputs": [
    {
     "name": "stdout",
     "output_type": "stream",
     "text": [
      "[-6, -6, -4, -4, 1, 1, 5, 5, 5, 5, 6, 6, 20, 20]\n",
      "0.00024754934293\n"
     ]
    }
   ],
   "source": [
    "def quickSort(A):\n",
    "    if len(A)<=1:\n",
    "        return A\n",
    "    else:\n",
    "        pivot=A[0]\n",
    "        #A=A[1:len(A)]\n",
    "        #left= [i for i in A if i<=pivot]\n",
    "        #right= [i for i in A if i > pivot]\n",
    "        left=[]\n",
    "        right=[]\n",
    "        for i in range(1,len(A)):\n",
    "            if A[i]<=pivot:\n",
    "                left.append(A[i])\n",
    "            else:\n",
    "                right.append(A[i])            \n",
    "        left = quickSort(left)\n",
    "        right = quickSort(right)\n",
    "        return left + [pivot] + right\n",
    "\n",
    "t0=time.clock()\n",
    "print quickSort(A)\n",
    "t1=time.clock()\n",
    "print t1-t0"
   ]
  },
  {
   "cell_type": "code",
   "execution_count": 78,
   "metadata": {
    "collapsed": false
   },
   "outputs": [
    {
     "name": "stdout",
     "output_type": "stream",
     "text": [
      "[-6, -6, -4, -4, 1, 1, 5, 5, 5, 5, 6, 6, 20, 20]\n",
      "0.000243444047555\n"
     ]
    }
   ],
   "source": [
    "def merge(left,right):\n",
    "    if left[len(left)-1] <= right[0]:\n",
    "        return left + right\n",
    "    else:\n",
    "        a=0\n",
    "        b=0\n",
    "        result=[]\n",
    "        while a<len(left) and b<len(right):\n",
    "            if left[a]<=right[b]:\n",
    "                result.append[left[a]]\n",
    "                a+=1\n",
    "            else:\n",
    "                result.append[right[b]]\n",
    "                b+=1\n",
    "                \n",
    "                \n",
    "def mergeSort(A):\n",
    "    if len(A)<=1:\n",
    "        return A\n",
    "    mid=len(A)//2\n",
    "    left=A[:mid]\n",
    "    right=A[mid:]\n",
    "    left=mergeSort(left)\n",
    "    right=mergeSort(right)\n",
    "    return merge(left,right)\n",
    "    \n",
    "t0=time.clock()\n",
    "print mergeSort(A)\n",
    "t1=time.clock()\n",
    "print t1-t0"
   ]
  },
  {
   "cell_type": "code",
   "execution_count": 84,
   "metadata": {
    "collapsed": false
   },
   "outputs": [
    {
     "data": {
      "text/plain": [
       "[-6, -6, -4, -4, 1, 1, 5, 5, 5, 5, 6, 6, 20, 20]"
      ]
     },
     "execution_count": 84,
     "metadata": {},
     "output_type": "execute_result"
    }
   ],
   "source": [
    "def bubbleSort(A):\n",
    "    for i in range(len(A)):\n",
    "        for j in range(1,len(A)-i):\n",
    "            if A[j-1]>A[j]:\n",
    "                A[j-1], A[j]= A[j], A[j-1]\n",
    "    return A\n",
    "\n",
    "bubbleSort(A)"
   ]
  },
  {
   "cell_type": "code",
   "execution_count": null,
   "metadata": {
    "collapsed": true
   },
   "outputs": [],
   "source": []
  }
 ],
 "metadata": {
  "anaconda-cloud": {},
  "kernelspec": {
   "display_name": "Python [conda root]",
   "language": "python",
   "name": "conda-root-py"
  },
  "language_info": {
   "codemirror_mode": {
    "name": "ipython",
    "version": 3
   },
   "file_extension": ".py",
   "mimetype": "text/x-python",
   "name": "python",
   "nbconvert_exporter": "python",
   "pygments_lexer": "ipython3",
   "version": "3.5.2"
  }
 },
 "nbformat": 4,
 "nbformat_minor": 0
}
